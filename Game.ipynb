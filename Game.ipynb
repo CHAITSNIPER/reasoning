{
  "nbformat": 4,
  "nbformat_minor": 0,
  "metadata": {
    "colab": {
      "provenance": [],
      "authorship_tag": "ABX9TyOwwDX1hFJt94eCh6e2JGmP",
      "include_colab_link": true
    },
    "kernelspec": {
      "name": "python3",
      "display_name": "Python 3"
    },
    "language_info": {
      "name": "python"
    }
  },
  "cells": [
    {
      "cell_type": "markdown",
      "metadata": {
        "id": "view-in-github",
        "colab_type": "text"
      },
      "source": [
        "<a href=\"https://colab.research.google.com/github/Chait314/reasoning/blob/main/Game.ipynb\" target=\"_parent\"><img src=\"https://colab.research.google.com/assets/colab-badge.svg\" alt=\"Open In Colab\"/></a>"
      ]
    },
    {
      "cell_type": "code",
      "execution_count": null,
      "metadata": {
        "id": "5xE0TcEqCPd3"
      },
      "outputs": [],
      "source": [
        "import gymnasium as gym\n",
        "import numpy as np;\n",
        "import math;\n",
        "import random;"
      ]
    },
    {
      "cell_type": "code",
      "source": [
        "class BlackJack:\n",
        "  def __init__(self):\n",
        "      self.action_space = [0,1];\n",
        "      self.suits = ['H', 'D', 'C', 'S']  # Hearts, Diamonds, Clubs, Spades\n",
        "      self.values = ['A', '2', '3', '4', '5', '6', '7', '8', '9', '10', 'J', 'Q', 'K']\n",
        "      self.used_cards = [];\n",
        "      self.reset();\n",
        "\n",
        "  def reset(self):\n",
        "      self.deck = [[suit, value] for suit in self.suits for value in self.values];\n",
        "      self.player_hand = [self.get_hand(),self.get_hand()];\n",
        "      self.dealer_hand = [self.get_hand(),self.get_hand()];\n",
        "      self.used_cards = [];\n",
        "      self.done = False;\n",
        "      return self.get_state();\n",
        "\n",
        "  def get_hand(self):\n",
        "      val = np.random.randint(52);\n",
        "      card = self.deck[val];\n",
        "\n",
        "\n",
        "      while card in self.used_cards:\n",
        "          val = np.random.randint(52);\n",
        "          card = self.deck[val];\n",
        "         # print(\"card\");\n",
        "      self.used_cards.append(card);\n",
        "      return card;\n",
        "\n",
        "  def get_value(self,card):\n",
        "      cardi = card[1];\n",
        "\n",
        "      if cardi == 'J' or cardi == 'K' or cardi == 'Q':\n",
        "          return 10;\n",
        "      if cardi == 'A':\n",
        "          return 11;\n",
        "      else:\n",
        "          return int(cardi);\n",
        "\n",
        "  def get_total(self, hand):\n",
        "      total = sum([self.get_value(card) for card in hand]);\n",
        "\n",
        "      for card in hand:\n",
        "          if card[1] == 'A' and total > 21:\n",
        "              total -= 10;\n",
        "      return total;\n",
        "\n",
        "  def get_state(self):\n",
        "      player_total = self.get_total(self.player_hand);\n",
        "      dealer_showing = self.get_value(self.dealer_hand[0]);\n",
        "\n",
        "      usable_ace = any(card[1] == 'A' for card in self.player_hand) and (player_total <= 21)\n",
        "      if usable_ace == False:\n",
        "          usA = 0;\n",
        "      else:\n",
        "          usA = 1;\n",
        "\n",
        "\n",
        "      return (player_total, dealer_showing, usA);\n",
        "\n",
        "\n",
        "  def step(self, action):\n",
        "      if action == 0:\n",
        "          card = self.get_hand()\n",
        "          self.player_hand.append(card)\n",
        "          if self.get_total(self.player_hand) > 21:\n",
        "              self.done = True\n",
        "              return self.get_state(), -1, self.done, {};\n",
        "          else:\n",
        "              return self.get_state(), 0, self.done, {};\n",
        "\n",
        "      else:\n",
        "          self.done = True;\n",
        "\n",
        "          player_total = self.get_total(self.player_hand);\n",
        "\n",
        "          while True:\n",
        "              dealer_total = self.get_total(self.dealer_hand);\n",
        "              if dealer_total >= 17:\n",
        "                  break;\n",
        "              card = self.get_hand();\n",
        "              self.dealer_hand.append(card);\n",
        "              dealer_total = self.get_total(self.dealer_hand);\n",
        "\n",
        "          reward = 0;\n",
        "          if player_total > 21:\n",
        "              reward = -1;\n",
        "          elif dealer_total > 21:\n",
        "              reward = 1;\n",
        "          elif player_total > dealer_total:\n",
        "              reward = 1;\n",
        "          elif player_total < dealer_total:\n",
        "              reward = -1;\n",
        "          else:\n",
        "              reward = 0;\n",
        "\n",
        "          #print(reward);\n",
        "\n",
        "          return self.get_state(), reward, self.done, {};\n",
        "\n",
        "\n",
        "\n",
        "\n",
        "\n",
        "\n",
        "\n",
        "\n"
      ],
      "metadata": {
        "id": "-xn_NcH0DUgp"
      },
      "execution_count": null,
      "outputs": []
    },
    {
      "cell_type": "code",
      "source": [
        "class DoubleQLearning:\n",
        "    def __init__(self, env, alpha=0.1, gamma=0.9, epsilon=0.1):\n",
        "        self.env = env;\n",
        "        self.alpha = 0.1\n",
        "        self.gamma = 0.9\n",
        "        self.epsilon = 0.1\n",
        "        self.decay = 0.998\n",
        "        self.minepsilon = 0.001\n",
        "\n",
        "\n",
        "        self.Q1 = np.random.uniform(-0.1,0.1,size = (32,12,2,2));\n",
        "        self.Q2 = np.random.uniform(-0.1,0.1,size = (32,12,2,2));\n",
        "\n",
        "\n",
        "    def choose_action(self, state):\n",
        "        player_total, dealer_showing, usable_ace = state\n",
        "\n",
        "        player_total = max(4, min(31, player_total))\n",
        "        dealer_showing = max(1, min(10, dealer_showing))\n",
        "        usable_ace = int(usable_ace)\n",
        "\n",
        "        if np.random.random() < self.epsilon:\n",
        "            return np.random.choice(self.env.action_space)\n",
        "\n",
        "        q_values = self.Q1[player_total, dealer_showing, usable_ace] + \\\n",
        "                   self.Q2[player_total, dealer_showing, usable_ace]\n",
        "\n",
        "        #print(np.argmax(q_values));\n",
        "\n",
        "        return np.argmax(q_values)\n",
        "    def update(self, state, reward, action, next_state, done):\n",
        "        if np.random.rand() < 0.5:\n",
        "            best_action = np.argmax(self.Q1[next_state[0], next_state[1], next_state[2]]);\n",
        "            target = reward + (self.gamma*(self.Q2[next_state[0], next_state[1], next_state[2],best_action])*(1 if not done else 0));\n",
        "            self.Q1[state[0], state[1], state[2], action] += self.alpha*(target - self.Q1[state[0], state[1], state[2], action]);\n",
        "        else:\n",
        "            best_action = np.argmax(self.Q2[next_state[0], next_state[1], next_state[2]]);\n",
        "            target = reward + (self.gamma*(self.Q1[next_state[0], next_state[1], next_state[2],best_action])*(1 if not done else 0));\n",
        "            self.Q2[state[0], state[1], state[2], action] += self.alpha * (target - self.Q2[state[0], state[1], state[2], action]);\n",
        "\n",
        "        self.epsilon = max(self.minepsilon, self.epsilon*self.decay);\n",
        "\n",
        "    def exploit(self, state):\n",
        "        player_total, dealer_showing, usable_ace = state\n",
        "\n",
        "        player_total = max(4, min(31, player_total))\n",
        "        dealer_showing = max(1, min(10, dealer_showing))\n",
        "        usable_ace = int(usable_ace)\n",
        "\n",
        "        if np.random.random() < self.epsilon:\n",
        "            return np.random.choice(self.env.action_space)\n",
        "\n",
        "        q_values = self.Q1[player_total, dealer_showing, usable_ace] + \\\n",
        "                   self.Q2[player_total, dealer_showing, usable_ace];\n",
        "\n",
        "        return np.argmax(q_values)\n",
        "\n",
        "    def train(self, num_eps):\n",
        "        for episodes in range(num_eps):\n",
        "            state = self.env.reset();\n",
        "            done = False;\n",
        "            episode_reward = 0;\n",
        "            #print(episodes);\n",
        "            while not done:\n",
        "                action = self.choose_action(state);\n",
        "                #print(state);\n",
        "                next_state, reward, done, _ = self.env.step(action);\n",
        "                self.update(state, reward, action, next_state, done);\n",
        "                state = next_state;\n",
        "                episode_reward += reward;\n",
        "\n",
        "    def test(self, num_eps):\n",
        "        wins = 0;\n",
        "        for episodes in range(num_eps):\n",
        "            state = self.env.reset();\n",
        "            done = False;\n",
        "            episode_reward = 0;\n",
        "\n",
        "\n",
        "            while not done:\n",
        "                action = self.exploit(state);\n",
        "                next_state, reward, done, _ = self.env.step(action);\n",
        "                state = next_state;\n",
        "                episode_reward += reward;\n",
        "                #print(done,reward);\n",
        "                if done and reward > 0:\n",
        "                    wins += 1;\n",
        "        print(f\"win percentage: {100*(wins/num_eps)}%\");\n",
        "\n",
        "    def printQ(self):\n",
        "        print(self.Q1);\n",
        "        print(self.Q2);\n"
      ],
      "metadata": {
        "id": "X3PMfSqdyjuI"
      },
      "execution_count": null,
      "outputs": []
    },
    {
      "cell_type": "code",
      "source": [
        "env = BlackJack();\n",
        "agent = DoubleQLearning(env);\n"
      ],
      "metadata": {
        "id": "vHVpfwI62vEb"
      },
      "execution_count": null,
      "outputs": []
    },
    {
      "cell_type": "code",
      "source": [
        "agent.train(100000);"
      ],
      "metadata": {
        "id": "kz-ldGxD2096"
      },
      "execution_count": null,
      "outputs": []
    },
    {
      "cell_type": "code",
      "source": [
        "agent.test(50);"
      ],
      "metadata": {
        "colab": {
          "base_uri": "https://localhost:8080/"
        },
        "id": "2qOIic6OXl9R",
        "outputId": "2086731d-10b3-4a67-8f48-9d2ed45157a6"
      },
      "execution_count": null,
      "outputs": [
        {
          "output_type": "stream",
          "name": "stdout",
          "text": [
            "win percentage: 46.0%\n"
          ]
        }
      ]
    },
    {
      "cell_type": "code",
      "source": [],
      "metadata": {
        "id": "jnAVVinMXY01"
      },
      "execution_count": null,
      "outputs": []
    }
  ]
}